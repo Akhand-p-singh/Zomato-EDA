{
 "cells": [
  {
   "cell_type": "code",
   "execution_count": 1,
   "id": "cd387002",
   "metadata": {},
   "outputs": [],
   "source": [
    "import pandas as pd\n",
    "import numpy as np\n",
    "import matplotlib.pyplot as plt"
   ]
  },
  {
   "cell_type": "code",
   "execution_count": 2,
   "id": "6b7975cb",
   "metadata": {},
   "outputs": [],
   "source": [
    "df = pd.read_csv(r\"C:\\Users\\Akhand Pratap Singh\\Desktop\\Zomato EDA 2\\zomato_dataset.csv\\zomato_dataset.csv\")"
   ]
  },
  {
   "cell_type": "code",
   "execution_count": 3,
   "id": "8857e046",
   "metadata": {},
   "outputs": [
    {
     "data": {
      "text/html": [
       "<div>\n",
       "<style scoped>\n",
       "    .dataframe tbody tr th:only-of-type {\n",
       "        vertical-align: middle;\n",
       "    }\n",
       "\n",
       "    .dataframe tbody tr th {\n",
       "        vertical-align: top;\n",
       "    }\n",
       "\n",
       "    .dataframe thead th {\n",
       "        text-align: right;\n",
       "    }\n",
       "</style>\n",
       "<table border=\"1\" class=\"dataframe\">\n",
       "  <thead>\n",
       "    <tr style=\"text-align: right;\">\n",
       "      <th></th>\n",
       "      <th>Restaurant Name</th>\n",
       "      <th>Dining Rating</th>\n",
       "      <th>Delivery Rating</th>\n",
       "      <th>Dining Votes</th>\n",
       "      <th>Delivery Votes</th>\n",
       "      <th>Cuisine</th>\n",
       "      <th>Place Name</th>\n",
       "      <th>City</th>\n",
       "      <th>Item Name</th>\n",
       "      <th>Best Seller</th>\n",
       "      <th>Votes</th>\n",
       "      <th>Prices</th>\n",
       "    </tr>\n",
       "  </thead>\n",
       "  <tbody>\n",
       "    <tr>\n",
       "      <th>0</th>\n",
       "      <td>Doner King</td>\n",
       "      <td>3.9</td>\n",
       "      <td>4.2</td>\n",
       "      <td>39</td>\n",
       "      <td>0</td>\n",
       "      <td>Fast Food</td>\n",
       "      <td>Malakpet</td>\n",
       "      <td>Hyderabad</td>\n",
       "      <td>Platter Kebab Combo</td>\n",
       "      <td>BESTSELLER</td>\n",
       "      <td>84</td>\n",
       "      <td>249.0</td>\n",
       "    </tr>\n",
       "    <tr>\n",
       "      <th>1</th>\n",
       "      <td>Doner King</td>\n",
       "      <td>3.9</td>\n",
       "      <td>4.2</td>\n",
       "      <td>39</td>\n",
       "      <td>0</td>\n",
       "      <td>Fast Food</td>\n",
       "      <td>Malakpet</td>\n",
       "      <td>Hyderabad</td>\n",
       "      <td>Chicken Rumali Shawarma</td>\n",
       "      <td>BESTSELLER</td>\n",
       "      <td>45</td>\n",
       "      <td>129.0</td>\n",
       "    </tr>\n",
       "    <tr>\n",
       "      <th>2</th>\n",
       "      <td>Doner King</td>\n",
       "      <td>3.9</td>\n",
       "      <td>4.2</td>\n",
       "      <td>39</td>\n",
       "      <td>0</td>\n",
       "      <td>Fast Food</td>\n",
       "      <td>Malakpet</td>\n",
       "      <td>Hyderabad</td>\n",
       "      <td>Chicken Tandoori Salad</td>\n",
       "      <td>NaN</td>\n",
       "      <td>39</td>\n",
       "      <td>189.0</td>\n",
       "    </tr>\n",
       "    <tr>\n",
       "      <th>3</th>\n",
       "      <td>Doner King</td>\n",
       "      <td>3.9</td>\n",
       "      <td>4.2</td>\n",
       "      <td>39</td>\n",
       "      <td>0</td>\n",
       "      <td>Fast Food</td>\n",
       "      <td>Malakpet</td>\n",
       "      <td>Hyderabad</td>\n",
       "      <td>Chicken BBQ Salad</td>\n",
       "      <td>BESTSELLER</td>\n",
       "      <td>43</td>\n",
       "      <td>189.0</td>\n",
       "    </tr>\n",
       "    <tr>\n",
       "      <th>4</th>\n",
       "      <td>Doner King</td>\n",
       "      <td>3.9</td>\n",
       "      <td>4.2</td>\n",
       "      <td>39</td>\n",
       "      <td>0</td>\n",
       "      <td>Fast Food</td>\n",
       "      <td>Malakpet</td>\n",
       "      <td>Hyderabad</td>\n",
       "      <td>Special Doner Wrap Combo</td>\n",
       "      <td>MUST TRY</td>\n",
       "      <td>31</td>\n",
       "      <td>205.0</td>\n",
       "    </tr>\n",
       "    <tr>\n",
       "      <th>...</th>\n",
       "      <td>...</td>\n",
       "      <td>...</td>\n",
       "      <td>...</td>\n",
       "      <td>...</td>\n",
       "      <td>...</td>\n",
       "      <td>...</td>\n",
       "      <td>...</td>\n",
       "      <td>...</td>\n",
       "      <td>...</td>\n",
       "      <td>...</td>\n",
       "      <td>...</td>\n",
       "      <td>...</td>\n",
       "    </tr>\n",
       "    <tr>\n",
       "      <th>123652</th>\n",
       "      <td>Ariena Boutique Hotel</td>\n",
       "      <td>3.9</td>\n",
       "      <td>4.2</td>\n",
       "      <td>13</td>\n",
       "      <td>523</td>\n",
       "      <td>Pizza</td>\n",
       "      <td>Purena</td>\n",
       "      <td>Raipur</td>\n",
       "      <td>Murgh Reshmi Kebab</td>\n",
       "      <td>NaN</td>\n",
       "      <td>0</td>\n",
       "      <td>525.0</td>\n",
       "    </tr>\n",
       "    <tr>\n",
       "      <th>123653</th>\n",
       "      <td>Ariena Boutique Hotel</td>\n",
       "      <td>3.9</td>\n",
       "      <td>4.2</td>\n",
       "      <td>13</td>\n",
       "      <td>523</td>\n",
       "      <td>Pizza</td>\n",
       "      <td>Purena</td>\n",
       "      <td>Raipur</td>\n",
       "      <td>Murgh Large Tikka</td>\n",
       "      <td>NaN</td>\n",
       "      <td>0</td>\n",
       "      <td>525.0</td>\n",
       "    </tr>\n",
       "    <tr>\n",
       "      <th>123654</th>\n",
       "      <td>Ariena Boutique Hotel</td>\n",
       "      <td>3.9</td>\n",
       "      <td>4.2</td>\n",
       "      <td>13</td>\n",
       "      <td>523</td>\n",
       "      <td>Pizza</td>\n",
       "      <td>Purena</td>\n",
       "      <td>Raipur</td>\n",
       "      <td>Murgh Chukandri Tikka</td>\n",
       "      <td>NaN</td>\n",
       "      <td>0</td>\n",
       "      <td>525.0</td>\n",
       "    </tr>\n",
       "    <tr>\n",
       "      <th>123655</th>\n",
       "      <td>Ariena Boutique Hotel</td>\n",
       "      <td>3.9</td>\n",
       "      <td>4.2</td>\n",
       "      <td>13</td>\n",
       "      <td>523</td>\n",
       "      <td>Pizza</td>\n",
       "      <td>Purena</td>\n",
       "      <td>Raipur</td>\n",
       "      <td>Murgh Golden Kebab</td>\n",
       "      <td>NaN</td>\n",
       "      <td>0</td>\n",
       "      <td>525.0</td>\n",
       "    </tr>\n",
       "    <tr>\n",
       "      <th>123656</th>\n",
       "      <td>Ariena Boutique Hotel</td>\n",
       "      <td>3.9</td>\n",
       "      <td>4.2</td>\n",
       "      <td>13</td>\n",
       "      <td>523</td>\n",
       "      <td>Pizza</td>\n",
       "      <td>Purena</td>\n",
       "      <td>Raipur</td>\n",
       "      <td>Gosht Gilawat Chop</td>\n",
       "      <td>BESTSELLER</td>\n",
       "      <td>0</td>\n",
       "      <td>595.0</td>\n",
       "    </tr>\n",
       "  </tbody>\n",
       "</table>\n",
       "<p>123657 rows × 12 columns</p>\n",
       "</div>"
      ],
      "text/plain": [
       "              Restaurant Name  Dining Rating  Delivery Rating  Dining Votes  \\\n",
       "0                  Doner King            3.9              4.2            39   \n",
       "1                  Doner King            3.9              4.2            39   \n",
       "2                  Doner King            3.9              4.2            39   \n",
       "3                  Doner King            3.9              4.2            39   \n",
       "4                  Doner King            3.9              4.2            39   \n",
       "...                       ...            ...              ...           ...   \n",
       "123652  Ariena Boutique Hotel            3.9              4.2            13   \n",
       "123653  Ariena Boutique Hotel            3.9              4.2            13   \n",
       "123654  Ariena Boutique Hotel            3.9              4.2            13   \n",
       "123655  Ariena Boutique Hotel            3.9              4.2            13   \n",
       "123656  Ariena Boutique Hotel            3.9              4.2            13   \n",
       "\n",
       "        Delivery Votes   Cuisine  Place Name        City  \\\n",
       "0                    0  Fast Food   Malakpet   Hyderabad   \n",
       "1                    0  Fast Food   Malakpet   Hyderabad   \n",
       "2                    0  Fast Food   Malakpet   Hyderabad   \n",
       "3                    0  Fast Food   Malakpet   Hyderabad   \n",
       "4                    0  Fast Food   Malakpet   Hyderabad   \n",
       "...                ...        ...        ...         ...   \n",
       "123652             523      Pizza     Purena      Raipur   \n",
       "123653             523      Pizza     Purena      Raipur   \n",
       "123654             523      Pizza     Purena      Raipur   \n",
       "123655             523      Pizza     Purena      Raipur   \n",
       "123656             523      Pizza     Purena      Raipur   \n",
       "\n",
       "                       Item Name Best Seller  Votes  Prices  \n",
       "0            Platter Kebab Combo  BESTSELLER     84   249.0  \n",
       "1        Chicken Rumali Shawarma  BESTSELLER     45   129.0  \n",
       "2         Chicken Tandoori Salad         NaN     39   189.0  \n",
       "3              Chicken BBQ Salad  BESTSELLER     43   189.0  \n",
       "4       Special Doner Wrap Combo    MUST TRY     31   205.0  \n",
       "...                          ...         ...    ...     ...  \n",
       "123652        Murgh Reshmi Kebab         NaN      0   525.0  \n",
       "123653         Murgh Large Tikka         NaN      0   525.0  \n",
       "123654     Murgh Chukandri Tikka         NaN      0   525.0  \n",
       "123655        Murgh Golden Kebab         NaN      0   525.0  \n",
       "123656        Gosht Gilawat Chop  BESTSELLER      0   595.0  \n",
       "\n",
       "[123657 rows x 12 columns]"
      ]
     },
     "execution_count": 3,
     "metadata": {},
     "output_type": "execute_result"
    }
   ],
   "source": [
    "df"
   ]
  },
  {
   "cell_type": "code",
   "execution_count": 4,
   "id": "c0e7c42b",
   "metadata": {},
   "outputs": [
    {
     "name": "stdout",
     "output_type": "stream",
     "text": [
      "<class 'pandas.core.frame.DataFrame'>\n",
      "RangeIndex: 123657 entries, 0 to 123656\n",
      "Data columns (total 12 columns):\n",
      " #   Column           Non-Null Count   Dtype  \n",
      "---  ------           --------------   -----  \n",
      " 0   Restaurant Name  123657 non-null  object \n",
      " 1   Dining Rating    91421 non-null   float64\n",
      " 2   Delivery Rating  122377 non-null  float64\n",
      " 3   Dining Votes     123657 non-null  int64  \n",
      " 4   Delivery Votes   123657 non-null  int64  \n",
      " 5   Cuisine          123657 non-null  object \n",
      " 6   Place Name       123657 non-null  object \n",
      " 7   City             123657 non-null  object \n",
      " 8   Item Name        123657 non-null  object \n",
      " 9   Best Seller      27942 non-null   object \n",
      " 10  Votes            123657 non-null  int64  \n",
      " 11  Prices           123657 non-null  float64\n",
      "dtypes: float64(3), int64(3), object(6)\n",
      "memory usage: 11.3+ MB\n"
     ]
    }
   ],
   "source": [
    "df.info()"
   ]
  },
  {
   "cell_type": "code",
   "execution_count": 5,
   "id": "30cbd369",
   "metadata": {},
   "outputs": [
    {
     "data": {
      "text/plain": [
       "Restaurant Name        0\n",
       "Dining Rating      32236\n",
       "Delivery Rating     1280\n",
       "Dining Votes           0\n",
       "Delivery Votes         0\n",
       "Cuisine                0\n",
       "Place Name             0\n",
       "City                   0\n",
       "Item Name              0\n",
       "Best Seller        95715\n",
       "Votes                  0\n",
       "Prices                 0\n",
       "dtype: int64"
      ]
     },
     "execution_count": 5,
     "metadata": {},
     "output_type": "execute_result"
    }
   ],
   "source": [
    "df.isnull().sum()"
   ]
  },
  {
   "cell_type": "code",
   "execution_count": 6,
   "id": "9f1bad5c",
   "metadata": {},
   "outputs": [],
   "source": [
    "df = df.rename(columns={'Restaurant Name': 'Restaurant_Name','Dining Rating': 'Dining_Rating', 'Delivery Rating': 'Delivery_Rating', 'Dining Votes': 'Dining_Votes', 'Place Name': 'Place_Name', 'Item Name': 'Item_Name', 'Best Seller': 'Best_Seller', 'Cuisine ':'Cuisine' })"
   ]
  },
  {
   "cell_type": "code",
   "execution_count": 7,
   "id": "a5668bf2",
   "metadata": {},
   "outputs": [
    {
     "data": {
      "text/html": [
       "<div>\n",
       "<style scoped>\n",
       "    .dataframe tbody tr th:only-of-type {\n",
       "        vertical-align: middle;\n",
       "    }\n",
       "\n",
       "    .dataframe tbody tr th {\n",
       "        vertical-align: top;\n",
       "    }\n",
       "\n",
       "    .dataframe thead th {\n",
       "        text-align: right;\n",
       "    }\n",
       "</style>\n",
       "<table border=\"1\" class=\"dataframe\">\n",
       "  <thead>\n",
       "    <tr style=\"text-align: right;\">\n",
       "      <th></th>\n",
       "      <th>Restaurant_Name</th>\n",
       "      <th>Dining_Rating</th>\n",
       "      <th>Delivery_Rating</th>\n",
       "      <th>Dining_Votes</th>\n",
       "      <th>Delivery Votes</th>\n",
       "      <th>Cuisine</th>\n",
       "      <th>Place_Name</th>\n",
       "      <th>City</th>\n",
       "      <th>Item_Name</th>\n",
       "      <th>Best_Seller</th>\n",
       "      <th>Votes</th>\n",
       "      <th>Prices</th>\n",
       "    </tr>\n",
       "  </thead>\n",
       "  <tbody>\n",
       "    <tr>\n",
       "      <th>0</th>\n",
       "      <td>Doner King</td>\n",
       "      <td>3.9</td>\n",
       "      <td>4.2</td>\n",
       "      <td>39</td>\n",
       "      <td>0</td>\n",
       "      <td>Fast Food</td>\n",
       "      <td>Malakpet</td>\n",
       "      <td>Hyderabad</td>\n",
       "      <td>Platter Kebab Combo</td>\n",
       "      <td>BESTSELLER</td>\n",
       "      <td>84</td>\n",
       "      <td>249.0</td>\n",
       "    </tr>\n",
       "    <tr>\n",
       "      <th>1</th>\n",
       "      <td>Doner King</td>\n",
       "      <td>3.9</td>\n",
       "      <td>4.2</td>\n",
       "      <td>39</td>\n",
       "      <td>0</td>\n",
       "      <td>Fast Food</td>\n",
       "      <td>Malakpet</td>\n",
       "      <td>Hyderabad</td>\n",
       "      <td>Chicken Rumali Shawarma</td>\n",
       "      <td>BESTSELLER</td>\n",
       "      <td>45</td>\n",
       "      <td>129.0</td>\n",
       "    </tr>\n",
       "    <tr>\n",
       "      <th>2</th>\n",
       "      <td>Doner King</td>\n",
       "      <td>3.9</td>\n",
       "      <td>4.2</td>\n",
       "      <td>39</td>\n",
       "      <td>0</td>\n",
       "      <td>Fast Food</td>\n",
       "      <td>Malakpet</td>\n",
       "      <td>Hyderabad</td>\n",
       "      <td>Chicken Tandoori Salad</td>\n",
       "      <td>NaN</td>\n",
       "      <td>39</td>\n",
       "      <td>189.0</td>\n",
       "    </tr>\n",
       "    <tr>\n",
       "      <th>3</th>\n",
       "      <td>Doner King</td>\n",
       "      <td>3.9</td>\n",
       "      <td>4.2</td>\n",
       "      <td>39</td>\n",
       "      <td>0</td>\n",
       "      <td>Fast Food</td>\n",
       "      <td>Malakpet</td>\n",
       "      <td>Hyderabad</td>\n",
       "      <td>Chicken BBQ Salad</td>\n",
       "      <td>BESTSELLER</td>\n",
       "      <td>43</td>\n",
       "      <td>189.0</td>\n",
       "    </tr>\n",
       "    <tr>\n",
       "      <th>4</th>\n",
       "      <td>Doner King</td>\n",
       "      <td>3.9</td>\n",
       "      <td>4.2</td>\n",
       "      <td>39</td>\n",
       "      <td>0</td>\n",
       "      <td>Fast Food</td>\n",
       "      <td>Malakpet</td>\n",
       "      <td>Hyderabad</td>\n",
       "      <td>Special Doner Wrap Combo</td>\n",
       "      <td>MUST TRY</td>\n",
       "      <td>31</td>\n",
       "      <td>205.0</td>\n",
       "    </tr>\n",
       "  </tbody>\n",
       "</table>\n",
       "</div>"
      ],
      "text/plain": [
       "  Restaurant_Name  Dining_Rating  Delivery_Rating  Dining_Votes  \\\n",
       "0      Doner King            3.9              4.2            39   \n",
       "1      Doner King            3.9              4.2            39   \n",
       "2      Doner King            3.9              4.2            39   \n",
       "3      Doner King            3.9              4.2            39   \n",
       "4      Doner King            3.9              4.2            39   \n",
       "\n",
       "   Delivery Votes    Cuisine Place_Name        City                 Item_Name  \\\n",
       "0               0  Fast Food   Malakpet   Hyderabad       Platter Kebab Combo   \n",
       "1               0  Fast Food   Malakpet   Hyderabad   Chicken Rumali Shawarma   \n",
       "2               0  Fast Food   Malakpet   Hyderabad    Chicken Tandoori Salad   \n",
       "3               0  Fast Food   Malakpet   Hyderabad         Chicken BBQ Salad   \n",
       "4               0  Fast Food   Malakpet   Hyderabad  Special Doner Wrap Combo   \n",
       "\n",
       "  Best_Seller  Votes  Prices  \n",
       "0  BESTSELLER     84   249.0  \n",
       "1  BESTSELLER     45   129.0  \n",
       "2         NaN     39   189.0  \n",
       "3  BESTSELLER     43   189.0  \n",
       "4    MUST TRY     31   205.0  "
      ]
     },
     "execution_count": 7,
     "metadata": {},
     "output_type": "execute_result"
    }
   ],
   "source": [
    "df.head()"
   ]
  },
  {
   "cell_type": "markdown",
   "id": "481ca163",
   "metadata": {},
   "source": [
    "df.groupby(['Restaurant_Name'])['Dining_Rating'].mean().head()"
   ]
  },
  {
   "cell_type": "code",
   "execution_count": 8,
   "id": "4883cbbc",
   "metadata": {},
   "outputs": [],
   "source": [
    "df.Dining_Rating.fillna(df['Dining_Rating'].mean, inplace=True)"
   ]
  },
  {
   "cell_type": "code",
   "execution_count": 9,
   "id": "acbb44c2",
   "metadata": {},
   "outputs": [],
   "source": [
    "df.Delivery_Rating.fillna(df['Delivery_Rating'].mean, inplace=True)"
   ]
  },
  {
   "cell_type": "code",
   "execution_count": 10,
   "id": "4c919ebf",
   "metadata": {},
   "outputs": [],
   "source": [
    "df.Best_Seller.fillna(df['Best_Seller'].mode, inplace=True)"
   ]
  },
  {
   "cell_type": "markdown",
   "id": "ac14f40d",
   "metadata": {},
   "source": [
    "df.isnull().sum()"
   ]
  },
  {
   "cell_type": "code",
   "execution_count": 11,
   "id": "1c2516e0",
   "metadata": {},
   "outputs": [
    {
     "data": {
      "text/html": [
       "<div>\n",
       "<style scoped>\n",
       "    .dataframe tbody tr th:only-of-type {\n",
       "        vertical-align: middle;\n",
       "    }\n",
       "\n",
       "    .dataframe tbody tr th {\n",
       "        vertical-align: top;\n",
       "    }\n",
       "\n",
       "    .dataframe thead th {\n",
       "        text-align: right;\n",
       "    }\n",
       "</style>\n",
       "<table border=\"1\" class=\"dataframe\">\n",
       "  <thead>\n",
       "    <tr style=\"text-align: right;\">\n",
       "      <th></th>\n",
       "      <th>Restaurant_Name</th>\n",
       "      <th>Dining_Rating</th>\n",
       "      <th>Delivery_Rating</th>\n",
       "      <th>Dining_Votes</th>\n",
       "      <th>Delivery Votes</th>\n",
       "      <th>Cuisine</th>\n",
       "      <th>Place_Name</th>\n",
       "      <th>City</th>\n",
       "      <th>Item_Name</th>\n",
       "      <th>Best_Seller</th>\n",
       "      <th>Votes</th>\n",
       "      <th>Prices</th>\n",
       "    </tr>\n",
       "  </thead>\n",
       "  <tbody>\n",
       "    <tr>\n",
       "      <th>0</th>\n",
       "      <td>Doner King</td>\n",
       "      <td>3.9</td>\n",
       "      <td>4.2</td>\n",
       "      <td>39</td>\n",
       "      <td>0</td>\n",
       "      <td>Fast Food</td>\n",
       "      <td>Malakpet</td>\n",
       "      <td>Hyderabad</td>\n",
       "      <td>Platter Kebab Combo</td>\n",
       "      <td>BESTSELLER</td>\n",
       "      <td>84</td>\n",
       "      <td>249.0</td>\n",
       "    </tr>\n",
       "    <tr>\n",
       "      <th>1</th>\n",
       "      <td>Doner King</td>\n",
       "      <td>3.9</td>\n",
       "      <td>4.2</td>\n",
       "      <td>39</td>\n",
       "      <td>0</td>\n",
       "      <td>Fast Food</td>\n",
       "      <td>Malakpet</td>\n",
       "      <td>Hyderabad</td>\n",
       "      <td>Chicken Rumali Shawarma</td>\n",
       "      <td>BESTSELLER</td>\n",
       "      <td>45</td>\n",
       "      <td>129.0</td>\n",
       "    </tr>\n",
       "  </tbody>\n",
       "</table>\n",
       "</div>"
      ],
      "text/plain": [
       "  Restaurant_Name Dining_Rating Delivery_Rating  Dining_Votes  Delivery Votes  \\\n",
       "0      Doner King           3.9             4.2            39               0   \n",
       "1      Doner King           3.9             4.2            39               0   \n",
       "\n",
       "     Cuisine Place_Name        City                Item_Name Best_Seller  \\\n",
       "0  Fast Food   Malakpet   Hyderabad      Platter Kebab Combo  BESTSELLER   \n",
       "1  Fast Food   Malakpet   Hyderabad  Chicken Rumali Shawarma  BESTSELLER   \n",
       "\n",
       "   Votes  Prices  \n",
       "0     84   249.0  \n",
       "1     45   129.0  "
      ]
     },
     "execution_count": 11,
     "metadata": {},
     "output_type": "execute_result"
    }
   ],
   "source": [
    "df.head(2)"
   ]
  },
  {
   "cell_type": "code",
   "execution_count": 12,
   "id": "63b0ad3f",
   "metadata": {},
   "outputs": [
    {
     "data": {
      "text/plain": [
       " Hyderabad    15613\n",
       " Jaipur       14438\n",
       " Mumbai       13535\n",
       " Chennai      13100\n",
       " Bangalore    12040\n",
       " Ahmedabad    10178\n",
       " Kolkata       8662\n",
       " Pune          8067\n",
       " Kochi         7759\n",
       " Raipur        7700\n",
       "Name: City, dtype: int64"
      ]
     },
     "execution_count": 12,
     "metadata": {},
     "output_type": "execute_result"
    }
   ],
   "source": [
    "# Top 10 cities with Highest number of Restaurants\n",
    "\n",
    "df.City.value_counts().head(10)"
   ]
  },
  {
   "cell_type": "code",
   "execution_count": 13,
   "id": "3019cc1e",
   "metadata": {},
   "outputs": [
    {
     "data": {
      "text/plain": [
       "list[Index(['Restaurant_Name', 'Dining_Rating', 'Delivery_Rating', 'Dining_Votes',\n",
       "       'Delivery Votes', 'Cuisine', 'Place_Name', 'City', 'Item_Name',\n",
       "       'Best_Seller', 'Votes', 'Prices'],\n",
       "      dtype='object')]"
      ]
     },
     "execution_count": 13,
     "metadata": {},
     "output_type": "execute_result"
    }
   ],
   "source": [
    "list[df.columns]"
   ]
  },
  {
   "cell_type": "code",
   "execution_count": 15,
   "id": "abe091c3",
   "metadata": {},
   "outputs": [
    {
     "data": {
      "text/html": [
       "<div>\n",
       "<style scoped>\n",
       "    .dataframe tbody tr th:only-of-type {\n",
       "        vertical-align: middle;\n",
       "    }\n",
       "\n",
       "    .dataframe tbody tr th {\n",
       "        vertical-align: top;\n",
       "    }\n",
       "\n",
       "    .dataframe thead th {\n",
       "        text-align: right;\n",
       "    }\n",
       "</style>\n",
       "<table border=\"1\" class=\"dataframe\">\n",
       "  <thead>\n",
       "    <tr style=\"text-align: right;\">\n",
       "      <th></th>\n",
       "      <th>City</th>\n",
       "      <th>Cuisine</th>\n",
       "      <th>Count</th>\n",
       "    </tr>\n",
       "  </thead>\n",
       "  <tbody>\n",
       "    <tr>\n",
       "      <th>0</th>\n",
       "      <td>Ahmedabad</td>\n",
       "      <td>American</td>\n",
       "      <td>46</td>\n",
       "    </tr>\n",
       "    <tr>\n",
       "      <th>1</th>\n",
       "      <td>Ahmedabad</td>\n",
       "      <td>Beverages</td>\n",
       "      <td>3547</td>\n",
       "    </tr>\n",
       "    <tr>\n",
       "      <th>2</th>\n",
       "      <td>Ahmedabad</td>\n",
       "      <td>Biryani</td>\n",
       "      <td>198</td>\n",
       "    </tr>\n",
       "    <tr>\n",
       "      <th>3</th>\n",
       "      <td>Ahmedabad</td>\n",
       "      <td>Chinese</td>\n",
       "      <td>359</td>\n",
       "    </tr>\n",
       "    <tr>\n",
       "      <th>4</th>\n",
       "      <td>Ahmedabad</td>\n",
       "      <td>Desserts</td>\n",
       "      <td>1219</td>\n",
       "    </tr>\n",
       "    <tr>\n",
       "      <th>...</th>\n",
       "      <td>...</td>\n",
       "      <td>...</td>\n",
       "      <td>...</td>\n",
       "    </tr>\n",
       "    <tr>\n",
       "      <th>211</th>\n",
       "      <td>Pune</td>\n",
       "      <td>Pizza</td>\n",
       "      <td>144</td>\n",
       "    </tr>\n",
       "    <tr>\n",
       "      <th>212</th>\n",
       "      <td>Pune</td>\n",
       "      <td>Shake</td>\n",
       "      <td>96</td>\n",
       "    </tr>\n",
       "    <tr>\n",
       "      <th>213</th>\n",
       "      <td>Pune</td>\n",
       "      <td>Sichuan</td>\n",
       "      <td>991</td>\n",
       "    </tr>\n",
       "    <tr>\n",
       "      <th>214</th>\n",
       "      <td>Raipur</td>\n",
       "      <td>Pizza</td>\n",
       "      <td>7700</td>\n",
       "    </tr>\n",
       "    <tr>\n",
       "      <th>215</th>\n",
       "      <td>Ulsoor</td>\n",
       "      <td>Desserts</td>\n",
       "      <td>66</td>\n",
       "    </tr>\n",
       "  </tbody>\n",
       "</table>\n",
       "<p>216 rows × 3 columns</p>\n",
       "</div>"
      ],
      "text/plain": [
       "           City    Cuisine  Count\n",
       "0     Ahmedabad   American     46\n",
       "1     Ahmedabad  Beverages   3547\n",
       "2     Ahmedabad    Biryani    198\n",
       "3     Ahmedabad    Chinese    359\n",
       "4     Ahmedabad   Desserts   1219\n",
       "..          ...        ...    ...\n",
       "211        Pune      Pizza    144\n",
       "212        Pune      Shake     96\n",
       "213        Pune    Sichuan    991\n",
       "214      Raipur      Pizza   7700\n",
       "215      Ulsoor   Desserts     66\n",
       "\n",
       "[216 rows x 3 columns]"
      ]
     },
     "execution_count": 15,
     "metadata": {},
     "output_type": "execute_result"
    }
   ],
   "source": [
    "df.groupby(['City', 'Cuisine']).size().reset_index(name='Count')"
   ]
  },
  {
   "cell_type": "code",
   "execution_count": 16,
   "id": "7d045148",
   "metadata": {},
   "outputs": [
    {
     "data": {
      "text/html": [
       "<div>\n",
       "<style scoped>\n",
       "    .dataframe tbody tr th:only-of-type {\n",
       "        vertical-align: middle;\n",
       "    }\n",
       "\n",
       "    .dataframe tbody tr th {\n",
       "        vertical-align: top;\n",
       "    }\n",
       "\n",
       "    .dataframe thead th {\n",
       "        text-align: right;\n",
       "    }\n",
       "</style>\n",
       "<table border=\"1\" class=\"dataframe\">\n",
       "  <thead>\n",
       "    <tr style=\"text-align: right;\">\n",
       "      <th></th>\n",
       "      <th>Restaurant_Name</th>\n",
       "      <th>Dining_Rating</th>\n",
       "      <th>Delivery_Rating</th>\n",
       "      <th>Dining_Votes</th>\n",
       "      <th>Delivery Votes</th>\n",
       "      <th>Cuisine</th>\n",
       "      <th>Place_Name</th>\n",
       "      <th>City</th>\n",
       "      <th>Item_Name</th>\n",
       "      <th>Best_Seller</th>\n",
       "      <th>Votes</th>\n",
       "      <th>Prices</th>\n",
       "    </tr>\n",
       "  </thead>\n",
       "  <tbody>\n",
       "    <tr>\n",
       "      <th>0</th>\n",
       "      <td>Doner King</td>\n",
       "      <td>3.9</td>\n",
       "      <td>4.2</td>\n",
       "      <td>39</td>\n",
       "      <td>0</td>\n",
       "      <td>Fast Food</td>\n",
       "      <td>Malakpet</td>\n",
       "      <td>Hyderabad</td>\n",
       "      <td>Platter Kebab Combo</td>\n",
       "      <td>BESTSELLER</td>\n",
       "      <td>84</td>\n",
       "      <td>249.0</td>\n",
       "    </tr>\n",
       "    <tr>\n",
       "      <th>1</th>\n",
       "      <td>Doner King</td>\n",
       "      <td>3.9</td>\n",
       "      <td>4.2</td>\n",
       "      <td>39</td>\n",
       "      <td>0</td>\n",
       "      <td>Fast Food</td>\n",
       "      <td>Malakpet</td>\n",
       "      <td>Hyderabad</td>\n",
       "      <td>Chicken Rumali Shawarma</td>\n",
       "      <td>BESTSELLER</td>\n",
       "      <td>45</td>\n",
       "      <td>129.0</td>\n",
       "    </tr>\n",
       "  </tbody>\n",
       "</table>\n",
       "</div>"
      ],
      "text/plain": [
       "  Restaurant_Name Dining_Rating Delivery_Rating  Dining_Votes  Delivery Votes  \\\n",
       "0      Doner King           3.9             4.2            39               0   \n",
       "1      Doner King           3.9             4.2            39               0   \n",
       "\n",
       "     Cuisine Place_Name        City                Item_Name Best_Seller  \\\n",
       "0  Fast Food   Malakpet   Hyderabad      Platter Kebab Combo  BESTSELLER   \n",
       "1  Fast Food   Malakpet   Hyderabad  Chicken Rumali Shawarma  BESTSELLER   \n",
       "\n",
       "   Votes  Prices  \n",
       "0     84   249.0  \n",
       "1     45   129.0  "
      ]
     },
     "execution_count": 16,
     "metadata": {},
     "output_type": "execute_result"
    }
   ],
   "source": [
    "df.head(2)"
   ]
  },
  {
   "cell_type": "code",
   "execution_count": 110,
   "id": "df36fcb1",
   "metadata": {},
   "outputs": [
    {
     "data": {
      "text/html": [
       "<div>\n",
       "<style scoped>\n",
       "    .dataframe tbody tr th:only-of-type {\n",
       "        vertical-align: middle;\n",
       "    }\n",
       "\n",
       "    .dataframe tbody tr th {\n",
       "        vertical-align: top;\n",
       "    }\n",
       "\n",
       "    .dataframe thead th {\n",
       "        text-align: right;\n",
       "    }\n",
       "</style>\n",
       "<table border=\"1\" class=\"dataframe\">\n",
       "  <thead>\n",
       "    <tr style=\"text-align: right;\">\n",
       "      <th></th>\n",
       "      <th>City</th>\n",
       "      <th>Item_Name</th>\n",
       "      <th>Prices</th>\n",
       "      <th>size</th>\n",
       "    </tr>\n",
       "  </thead>\n",
       "  <tbody>\n",
       "    <tr>\n",
       "      <th>0</th>\n",
       "      <td>Ahmedabad</td>\n",
       "      <td>(Sweet) Paneer Shahi Cream [350-400 Gm]</td>\n",
       "      <td>290.0</td>\n",
       "      <td>1</td>\n",
       "    </tr>\n",
       "    <tr>\n",
       "      <th>1</th>\n",
       "      <td>Ahmedabad</td>\n",
       "      <td>1 Achari Paratha</td>\n",
       "      <td>319.0</td>\n",
       "      <td>1</td>\n",
       "    </tr>\n",
       "    <tr>\n",
       "      <th>2</th>\n",
       "      <td>Ahmedabad</td>\n",
       "      <td>1 All in One Paratha</td>\n",
       "      <td>219.0</td>\n",
       "      <td>2</td>\n",
       "    </tr>\n",
       "    <tr>\n",
       "      <th>3</th>\n",
       "      <td>Ahmedabad</td>\n",
       "      <td>1 Aloo Corn Pyaz Paratha</td>\n",
       "      <td>189.0</td>\n",
       "      <td>1</td>\n",
       "    </tr>\n",
       "    <tr>\n",
       "      <th>4</th>\n",
       "      <td>Ahmedabad</td>\n",
       "      <td>1 Aloo Gobi Paratha</td>\n",
       "      <td>179.0</td>\n",
       "      <td>1</td>\n",
       "    </tr>\n",
       "    <tr>\n",
       "      <th>...</th>\n",
       "      <td>...</td>\n",
       "      <td>...</td>\n",
       "      <td>...</td>\n",
       "      <td>...</td>\n",
       "    </tr>\n",
       "    <tr>\n",
       "      <th>93801</th>\n",
       "      <td>Ulsoor</td>\n",
       "      <td>Paneer Tikka Dum Biryani (Serves 2)</td>\n",
       "      <td>639.0</td>\n",
       "      <td>2</td>\n",
       "    </tr>\n",
       "    <tr>\n",
       "      <th>93802</th>\n",
       "      <td>Ulsoor</td>\n",
       "      <td>Paneer Tikka Dum Biryani (Serves 4)</td>\n",
       "      <td>1129.0</td>\n",
       "      <td>1</td>\n",
       "    </tr>\n",
       "    <tr>\n",
       "      <th>93803</th>\n",
       "      <td>Ulsoor</td>\n",
       "      <td>Strawberry Shake</td>\n",
       "      <td>159.0</td>\n",
       "      <td>1</td>\n",
       "    </tr>\n",
       "    <tr>\n",
       "      <th>93804</th>\n",
       "      <td>Ulsoor</td>\n",
       "      <td>Tandoori Paneer Tikka</td>\n",
       "      <td>299.0</td>\n",
       "      <td>1</td>\n",
       "    </tr>\n",
       "    <tr>\n",
       "      <th>93805</th>\n",
       "      <td>Ulsoor</td>\n",
       "      <td>Veg Shami Kebab</td>\n",
       "      <td>159.0</td>\n",
       "      <td>1</td>\n",
       "    </tr>\n",
       "  </tbody>\n",
       "</table>\n",
       "<p>93806 rows × 4 columns</p>\n",
       "</div>"
      ],
      "text/plain": [
       "             City                                Item_Name  Prices  size\n",
       "0       Ahmedabad  (Sweet) Paneer Shahi Cream [350-400 Gm]   290.0     1\n",
       "1       Ahmedabad                         1 Achari Paratha   319.0     1\n",
       "2       Ahmedabad                     1 All in One Paratha   219.0     2\n",
       "3       Ahmedabad                 1 Aloo Corn Pyaz Paratha   189.0     1\n",
       "4       Ahmedabad                      1 Aloo Gobi Paratha   179.0     1\n",
       "...           ...                                      ...     ...   ...\n",
       "93801      Ulsoor      Paneer Tikka Dum Biryani (Serves 2)   639.0     2\n",
       "93802      Ulsoor      Paneer Tikka Dum Biryani (Serves 4)  1129.0     1\n",
       "93803      Ulsoor                         Strawberry Shake   159.0     1\n",
       "93804      Ulsoor                    Tandoori Paneer Tikka   299.0     1\n",
       "93805      Ulsoor                          Veg Shami Kebab   159.0     1\n",
       "\n",
       "[93806 rows x 4 columns]"
      ]
     },
     "execution_count": 110,
     "metadata": {},
     "output_type": "execute_result"
    }
   ],
   "source": [
    "df.groupby(['City', 'Item_Name', 'Prices']).size().reset_index(name='size')"
   ]
  },
  {
   "cell_type": "code",
   "execution_count": 18,
   "id": "0b4523a3",
   "metadata": {},
   "outputs": [
    {
     "data": {
      "text/plain": [
       "Veg Fried Rice          322\n",
       "Paneer Butter Masala    319\n",
       "Chicken Fried Rice      278\n",
       "Jeera Rice              231\n",
       "Chicken Biryani         226\n",
       "French Fries            211\n",
       "Butter Naan             198\n",
       "Egg Fried Rice          197\n",
       "Veg Biryani             188\n",
       "Chicken 65              181\n",
       "Name: Item_Name, dtype: int64"
      ]
     },
     "execution_count": 18,
     "metadata": {},
     "output_type": "execute_result"
    }
   ],
   "source": [
    "# top 10 food item\n",
    "\n",
    "df['Item_Name'].value_counts().head(10)"
   ]
  },
  {
   "cell_type": "code",
   "execution_count": 19,
   "id": "dddae75b",
   "metadata": {},
   "outputs": [
    {
     "data": {
      "text/html": [
       "<div>\n",
       "<style scoped>\n",
       "    .dataframe tbody tr th:only-of-type {\n",
       "        vertical-align: middle;\n",
       "    }\n",
       "\n",
       "    .dataframe tbody tr th {\n",
       "        vertical-align: top;\n",
       "    }\n",
       "\n",
       "    .dataframe thead th {\n",
       "        text-align: right;\n",
       "    }\n",
       "</style>\n",
       "<table border=\"1\" class=\"dataframe\">\n",
       "  <thead>\n",
       "    <tr style=\"text-align: right;\">\n",
       "      <th></th>\n",
       "      <th>Restaurant_Name</th>\n",
       "      <th>Dining_Rating</th>\n",
       "      <th>Delivery_Rating</th>\n",
       "      <th>Dining_Votes</th>\n",
       "      <th>Delivery Votes</th>\n",
       "      <th>Cuisine</th>\n",
       "      <th>Place_Name</th>\n",
       "      <th>City</th>\n",
       "      <th>Item_Name</th>\n",
       "      <th>Best_Seller</th>\n",
       "      <th>Votes</th>\n",
       "      <th>Prices</th>\n",
       "    </tr>\n",
       "  </thead>\n",
       "  <tbody>\n",
       "    <tr>\n",
       "      <th>0</th>\n",
       "      <td>Doner King</td>\n",
       "      <td>3.9</td>\n",
       "      <td>4.2</td>\n",
       "      <td>39</td>\n",
       "      <td>0</td>\n",
       "      <td>Fast Food</td>\n",
       "      <td>Malakpet</td>\n",
       "      <td>Hyderabad</td>\n",
       "      <td>Platter Kebab Combo</td>\n",
       "      <td>BESTSELLER</td>\n",
       "      <td>84</td>\n",
       "      <td>249.0</td>\n",
       "    </tr>\n",
       "    <tr>\n",
       "      <th>1</th>\n",
       "      <td>Doner King</td>\n",
       "      <td>3.9</td>\n",
       "      <td>4.2</td>\n",
       "      <td>39</td>\n",
       "      <td>0</td>\n",
       "      <td>Fast Food</td>\n",
       "      <td>Malakpet</td>\n",
       "      <td>Hyderabad</td>\n",
       "      <td>Chicken Rumali Shawarma</td>\n",
       "      <td>BESTSELLER</td>\n",
       "      <td>45</td>\n",
       "      <td>129.0</td>\n",
       "    </tr>\n",
       "  </tbody>\n",
       "</table>\n",
       "</div>"
      ],
      "text/plain": [
       "  Restaurant_Name Dining_Rating Delivery_Rating  Dining_Votes  Delivery Votes  \\\n",
       "0      Doner King           3.9             4.2            39               0   \n",
       "1      Doner King           3.9             4.2            39               0   \n",
       "\n",
       "     Cuisine Place_Name        City                Item_Name Best_Seller  \\\n",
       "0  Fast Food   Malakpet   Hyderabad      Platter Kebab Combo  BESTSELLER   \n",
       "1  Fast Food   Malakpet   Hyderabad  Chicken Rumali Shawarma  BESTSELLER   \n",
       "\n",
       "   Votes  Prices  \n",
       "0     84   249.0  \n",
       "1     45   129.0  "
      ]
     },
     "execution_count": 19,
     "metadata": {},
     "output_type": "execute_result"
    }
   ],
   "source": [
    "df.head(2)"
   ]
  },
  {
   "cell_type": "code",
   "execution_count": 20,
   "id": "7d5b1575",
   "metadata": {},
   "outputs": [],
   "source": [
    "vfr = df['Item_Name'] == 'Veg Fried Rice'"
   ]
  },
  {
   "cell_type": "code",
   "execution_count": 21,
   "id": "57417395",
   "metadata": {},
   "outputs": [
    {
     "data": {
      "text/plain": [
       "0         False\n",
       "1         False\n",
       "2         False\n",
       "3         False\n",
       "4         False\n",
       "          ...  \n",
       "123652    False\n",
       "123653    False\n",
       "123654    False\n",
       "123655    False\n",
       "123656    False\n",
       "Name: Item_Name, Length: 123657, dtype: bool"
      ]
     },
     "execution_count": 21,
     "metadata": {},
     "output_type": "execute_result"
    }
   ],
   "source": [
    "vfr"
   ]
  },
  {
   "cell_type": "code",
   "execution_count": 22,
   "id": "ed44a055",
   "metadata": {},
   "outputs": [
    {
     "data": {
      "text/plain": [
       "City        Item_Name     \n",
       " Ahmedabad  Veg Fried Rice    15\n",
       " Bangalore  Veg Fried Rice    31\n",
       " Chennai    Veg Fried Rice    43\n",
       " Goa        Veg Fried Rice    13\n",
       " Hyderabad  Veg Fried Rice    67\n",
       "Name: Item_Name, dtype: int64"
      ]
     },
     "execution_count": 22,
     "metadata": {},
     "output_type": "execute_result"
    }
   ],
   "source": [
    "# City by Veg Fried Rice Popularity\n",
    "\n",
    "vfr_stats = df[vfr].groupby('City')['Item_Name'].value_counts()\n",
    "vfr_stats.head(5)"
   ]
  },
  {
   "cell_type": "code",
   "execution_count": 23,
   "id": "766e8e20",
   "metadata": {},
   "outputs": [
    {
     "data": {
      "image/png": "[encoded data removed]",
      "text/plain": [
       "<Figure size 640x480 with 1 Axes>"
      ]
     },
     "metadata": {},
     "output_type": "display_data"
    }
   ],
   "source": [
    "vfr_stats = df[vfr].groupby('City')['Item_Name'].value_counts().plot(kind = 'bar')"
   ]
  },
  {
   "cell_type": "code",
   "execution_count": 24,
   "id": "489f40e7",
   "metadata": {},
   "outputs": [],
   "source": [
    "Bir = df['Item_Name'] == 'Chicken Biryani'"
   ]
  },
  {
   "cell_type": "code",
   "execution_count": 25,
   "id": "60b95219",
   "metadata": {},
   "outputs": [
    {
     "data": {
      "text/plain": [
       "0         False\n",
       "1         False\n",
       "2         False\n",
       "3         False\n",
       "4         False\n",
       "          ...  \n",
       "123652    False\n",
       "123653    False\n",
       "123654    False\n",
       "123655    False\n",
       "123656    False\n",
       "Name: Item_Name, Length: 123657, dtype: bool"
      ]
     },
     "execution_count": 25,
     "metadata": {},
     "output_type": "execute_result"
    }
   ],
   "source": [
    "Bir"
   ]
  },
  {
   "cell_type": "code",
   "execution_count": 26,
   "id": "ccd7f8aa",
   "metadata": {},
   "outputs": [
    {
     "data": {
      "text/html": [
       "<div>\n",
       "<style scoped>\n",
       "    .dataframe tbody tr th:only-of-type {\n",
       "        vertical-align: middle;\n",
       "    }\n",
       "\n",
       "    .dataframe tbody tr th {\n",
       "        vertical-align: top;\n",
       "    }\n",
       "\n",
       "    .dataframe thead th {\n",
       "        text-align: right;\n",
       "    }\n",
       "</style>\n",
       "<table border=\"1\" class=\"dataframe\">\n",
       "  <thead>\n",
       "    <tr style=\"text-align: right;\">\n",
       "      <th></th>\n",
       "      <th>City</th>\n",
       "      <th>Item_Name</th>\n",
       "      <th>total</th>\n",
       "    </tr>\n",
       "  </thead>\n",
       "  <tbody>\n",
       "    <tr>\n",
       "      <th>0</th>\n",
       "      <td>Ahmedabad</td>\n",
       "      <td>Chicken Biryani</td>\n",
       "      <td>6</td>\n",
       "    </tr>\n",
       "    <tr>\n",
       "      <th>1</th>\n",
       "      <td>Bangalore</td>\n",
       "      <td>Chicken Biryani</td>\n",
       "      <td>13</td>\n",
       "    </tr>\n",
       "    <tr>\n",
       "      <th>2</th>\n",
       "      <td>Chennai</td>\n",
       "      <td>Chicken Biryani</td>\n",
       "      <td>43</td>\n",
       "    </tr>\n",
       "    <tr>\n",
       "      <th>3</th>\n",
       "      <td>Goa</td>\n",
       "      <td>Chicken Biryani</td>\n",
       "      <td>17</td>\n",
       "    </tr>\n",
       "    <tr>\n",
       "      <th>4</th>\n",
       "      <td>Hyderabad</td>\n",
       "      <td>Chicken Biryani</td>\n",
       "      <td>44</td>\n",
       "    </tr>\n",
       "  </tbody>\n",
       "</table>\n",
       "</div>"
      ],
      "text/plain": [
       "         City        Item_Name  total\n",
       "0   Ahmedabad  Chicken Biryani      6\n",
       "1   Bangalore  Chicken Biryani     13\n",
       "2     Chennai  Chicken Biryani     43\n",
       "3         Goa  Chicken Biryani     17\n",
       "4   Hyderabad  Chicken Biryani     44"
      ]
     },
     "execution_count": 26,
     "metadata": {},
     "output_type": "execute_result"
    }
   ],
   "source": [
    "bir_stats = df[Bir].groupby('City')['Item_Name'].value_counts().reset_index(name='total')\n",
    "bir_stats.head(5)"
   ]
  },
  {
   "cell_type": "code",
   "execution_count": 27,
   "id": "1095c8ce",
   "metadata": {},
   "outputs": [
    {
     "data": {
      "image/png": "[encoded data removed]",
      "text/plain": [
       "<Figure size 640x480 with 1 Axes>"
      ]
     },
     "metadata": {},
     "output_type": "display_data"
    }
   ],
   "source": [
    "bir_stats = df[Bir].groupby('City')['Item_Name'].value_counts().reset_index(name='total').plot(kind = 'bar') "
   ]
  },
  {
   "cell_type": "code",
   "execution_count": 28,
   "id": "d7391be9",
   "metadata": {},
   "outputs": [],
   "source": [
    "# plt.bar(x=bir_stats.values, y=bir_stats.index)"
   ]
  },
  {
   "cell_type": "code",
   "execution_count": 29,
   "id": "bff73a13",
   "metadata": {},
   "outputs": [
    {
     "data": {
      "text/plain": [
       "Veg Fried Rice                   322\n",
       "Paneer Butter Masala             319\n",
       "Chicken Fried Rice               278\n",
       "Jeera Rice                       231\n",
       "Chicken Biryani                  226\n",
       "                                ... \n",
       "Chicken Chinese Choupsey           1\n",
       "Chicken Burn Chilli Noodles        1\n",
       "Chicken Chilli Oyster Noodles      1\n",
       "Prawn American Choupsey            1\n",
       "ChickenTuktuk                      1\n",
       "Name: Item_Name, Length: 55693, dtype: int64"
      ]
     },
     "execution_count": 29,
     "metadata": {},
     "output_type": "execute_result"
    }
   ],
   "source": [
    "df.Item_Name.value_counts() "
   ]
  },
  {
   "cell_type": "code",
   "execution_count": 71,
   "id": "afcf70c6",
   "metadata": {},
   "outputs": [
    {
     "data": {
      "text/plain": [
       "277          Veg Shanghai Roll\n",
       "278       Palak Kashmiri Kofta\n",
       "279               Kadai Panner\n",
       "280              Mutter Panner\n",
       "281               Palak Panner\n",
       "282       Paneer Butter Masala\n",
       "283             Navratan Curry\n",
       "284            Veg Shahi Kurma\n",
       "285            Veg Malai Kofta\n",
       "286              Veg Do Pyaaza\n",
       "287               Veg Chat Pat\n",
       "288               Methi Chaman\n",
       "289                  Egg Curry\n",
       "290                 Egg Masala\n",
       "291             Dhamka Chicken\n",
       "292    Crystal Special Chicken\n",
       "293       Chicken Tikka Masala\n",
       "294             Butter Chicken\n",
       "295              Chicken Methi\n",
       "296           Chicken Mughalai\n",
       "297            Chicken Afghani\n",
       "298            Punjabi Chicken\n",
       "299           Chicken Khandari\n",
       "Name: Item_Name, dtype: object"
      ]
     },
     "execution_count": 71,
     "metadata": {},
     "output_type": "execute_result"
    }
   ],
   "source": [
    "df.Item_Name[277:300]"
   ]
  },
  {
   "cell_type": "code",
   "execution_count": 31,
   "id": "e35c207f",
   "metadata": {},
   "outputs": [],
   "source": [
    "# Top 10 Restaurant by delivery rating"
   ]
  },
  {
   "cell_type": "code",
   "execution_count": 32,
   "id": "5018229a",
   "metadata": {},
   "outputs": [
    {
     "data": {
      "text/html": [
       "<div>\n",
       "<style scoped>\n",
       "    .dataframe tbody tr th:only-of-type {\n",
       "        vertical-align: middle;\n",
       "    }\n",
       "\n",
       "    .dataframe tbody tr th {\n",
       "        vertical-align: top;\n",
       "    }\n",
       "\n",
       "    .dataframe thead th {\n",
       "        text-align: right;\n",
       "    }\n",
       "</style>\n",
       "<table border=\"1\" class=\"dataframe\">\n",
       "  <thead>\n",
       "    <tr style=\"text-align: right;\">\n",
       "      <th></th>\n",
       "      <th>Restaurant_Name</th>\n",
       "      <th>Dining_Rating</th>\n",
       "      <th>Delivery_Rating</th>\n",
       "      <th>Dining_Votes</th>\n",
       "      <th>Delivery Votes</th>\n",
       "      <th>Cuisine</th>\n",
       "      <th>Place_Name</th>\n",
       "      <th>City</th>\n",
       "      <th>Item_Name</th>\n",
       "      <th>Best_Seller</th>\n",
       "      <th>Votes</th>\n",
       "      <th>Prices</th>\n",
       "    </tr>\n",
       "  </thead>\n",
       "  <tbody>\n",
       "    <tr>\n",
       "      <th>0</th>\n",
       "      <td>Doner King</td>\n",
       "      <td>3.9</td>\n",
       "      <td>4.2</td>\n",
       "      <td>39</td>\n",
       "      <td>0</td>\n",
       "      <td>Fast Food</td>\n",
       "      <td>Malakpet</td>\n",
       "      <td>Hyderabad</td>\n",
       "      <td>Platter Kebab Combo</td>\n",
       "      <td>BESTSELLER</td>\n",
       "      <td>84</td>\n",
       "      <td>249.0</td>\n",
       "    </tr>\n",
       "    <tr>\n",
       "      <th>1</th>\n",
       "      <td>Doner King</td>\n",
       "      <td>3.9</td>\n",
       "      <td>4.2</td>\n",
       "      <td>39</td>\n",
       "      <td>0</td>\n",
       "      <td>Fast Food</td>\n",
       "      <td>Malakpet</td>\n",
       "      <td>Hyderabad</td>\n",
       "      <td>Chicken Rumali Shawarma</td>\n",
       "      <td>BESTSELLER</td>\n",
       "      <td>45</td>\n",
       "      <td>129.0</td>\n",
       "    </tr>\n",
       "  </tbody>\n",
       "</table>\n",
       "</div>"
      ],
      "text/plain": [
       "  Restaurant_Name Dining_Rating Delivery_Rating  Dining_Votes  Delivery Votes  \\\n",
       "0      Doner King           3.9             4.2            39               0   \n",
       "1      Doner King           3.9             4.2            39               0   \n",
       "\n",
       "     Cuisine Place_Name        City                Item_Name Best_Seller  \\\n",
       "0  Fast Food   Malakpet   Hyderabad      Platter Kebab Combo  BESTSELLER   \n",
       "1  Fast Food   Malakpet   Hyderabad  Chicken Rumali Shawarma  BESTSELLER   \n",
       "\n",
       "   Votes  Prices  \n",
       "0     84   249.0  \n",
       "1     45   129.0  "
      ]
     },
     "execution_count": 32,
     "metadata": {},
     "output_type": "execute_result"
    }
   ],
   "source": [
    "df.head(2)"
   ]
  },
  {
   "cell_type": "code",
   "execution_count": 33,
   "id": "6a7b9960",
   "metadata": {},
   "outputs": [],
   "source": [
    "\n",
    "df['Dining_Rating'] = pd.to_numeric(df['Dining_Rating'], errors='coerce')"
   ]
  },
  {
   "cell_type": "code",
   "execution_count": 34,
   "id": "0219dd1c",
   "metadata": {},
   "outputs": [],
   "source": [
    "df['Delivery_Rating'] = pd.to_numeric(df['Delivery_Rating'], errors='coerce')"
   ]
  },
  {
   "cell_type": "code",
   "execution_count": 35,
   "id": "68907c7a",
   "metadata": {},
   "outputs": [
    {
     "name": "stdout",
     "output_type": "stream",
     "text": [
      "<class 'pandas.core.frame.DataFrame'>\n",
      "RangeIndex: 123657 entries, 0 to 123656\n",
      "Data columns (total 12 columns):\n",
      " #   Column           Non-Null Count   Dtype  \n",
      "---  ------           --------------   -----  \n",
      " 0   Restaurant_Name  123657 non-null  object \n",
      " 1   Dining_Rating    91421 non-null   float64\n",
      " 2   Delivery_Rating  122377 non-null  float64\n",
      " 3   Dining_Votes     123657 non-null  int64  \n",
      " 4   Delivery Votes   123657 non-null  int64  \n",
      " 5   Cuisine          123657 non-null  object \n",
      " 6   Place_Name       123657 non-null  object \n",
      " 7   City             123657 non-null  object \n",
      " 8   Item_Name        123657 non-null  object \n",
      " 9   Best_Seller      123657 non-null  object \n",
      " 10  Votes            123657 non-null  int64  \n",
      " 11  Prices           123657 non-null  float64\n",
      "dtypes: float64(3), int64(3), object(6)\n",
      "memory usage: 11.3+ MB\n"
     ]
    }
   ],
   "source": [
    "df.info()"
   ]
  },
  {
   "cell_type": "code",
   "execution_count": 36,
   "id": "05ebcb87",
   "metadata": {},
   "outputs": [
    {
     "data": {
      "text/plain": [
       "Restaurant_Name\n",
       "12 To 12 BBQ                4.0\n",
       "1441 Pizzeria               4.0\n",
       "1944 -The HOCCO Kitchen     4.3\n",
       "4M Biryani House            4.2\n",
       "7 Plates                    4.3\n",
       "                           ... \n",
       "Zaffran Mataam Alarabi      4.1\n",
       "Zam Zam Briyani             3.4\n",
       "Zam Zam Restaurant          4.3\n",
       "Zeeshan Biryani Corner      4.0\n",
       "Zomoz - The Momo Company    4.3\n",
       "Name: Delivery_Rating, Length: 826, dtype: float64"
      ]
     },
     "execution_count": 36,
     "metadata": {},
     "output_type": "execute_result"
    }
   ],
   "source": [
    "df.groupby('Restaurant_Name')['Delivery_Rating'].mean()"
   ]
  },
  {
   "cell_type": "code",
   "execution_count": 37,
   "id": "ac5a776d",
   "metadata": {},
   "outputs": [
    {
     "name": "stdout",
     "output_type": "stream",
     "text": [
      "<class 'pandas.core.frame.DataFrame'>\n",
      "RangeIndex: 123657 entries, 0 to 123656\n",
      "Data columns (total 12 columns):\n",
      " #   Column           Non-Null Count   Dtype  \n",
      "---  ------           --------------   -----  \n",
      " 0   Restaurant_Name  123657 non-null  object \n",
      " 1   Dining_Rating    91421 non-null   float64\n",
      " 2   Delivery_Rating  122377 non-null  float64\n",
      " 3   Dining_Votes     123657 non-null  int64  \n",
      " 4   Delivery Votes   123657 non-null  int64  \n",
      " 5   Cuisine          123657 non-null  object \n",
      " 6   Place_Name       123657 non-null  object \n",
      " 7   City             123657 non-null  object \n",
      " 8   Item_Name        123657 non-null  object \n",
      " 9   Best_Seller      123657 non-null  object \n",
      " 10  Votes            123657 non-null  int64  \n",
      " 11  Prices           123657 non-null  float64\n",
      "dtypes: float64(3), int64(3), object(6)\n",
      "memory usage: 11.3+ MB\n"
     ]
    }
   ],
   "source": [
    "df.info()\n",
    "\n",
    "# convert Dining rating And delivery rating into into"
   ]
  },
  {
   "cell_type": "code",
   "execution_count": 39,
   "id": "fadef3f0",
   "metadata": {},
   "outputs": [
    {
     "data": {
      "text/html": [
       "<div>\n",
       "<style scoped>\n",
       "    .dataframe tbody tr th:only-of-type {\n",
       "        vertical-align: middle;\n",
       "    }\n",
       "\n",
       "    .dataframe tbody tr th {\n",
       "        vertical-align: top;\n",
       "    }\n",
       "\n",
       "    .dataframe thead th {\n",
       "        text-align: right;\n",
       "    }\n",
       "</style>\n",
       "<table border=\"1\" class=\"dataframe\">\n",
       "  <thead>\n",
       "    <tr style=\"text-align: right;\">\n",
       "      <th></th>\n",
       "      <th>Restaurant_Name</th>\n",
       "      <th>Dining_Rating</th>\n",
       "      <th>Delivery_Rating</th>\n",
       "      <th>Dining_Votes</th>\n",
       "      <th>Delivery Votes</th>\n",
       "      <th>Cuisine</th>\n",
       "      <th>Place_Name</th>\n",
       "      <th>City</th>\n",
       "      <th>Item_Name</th>\n",
       "      <th>Best_Seller</th>\n",
       "      <th>Votes</th>\n",
       "      <th>Prices</th>\n",
       "    </tr>\n",
       "  </thead>\n",
       "  <tbody>\n",
       "    <tr>\n",
       "      <th>0</th>\n",
       "      <td>Doner King</td>\n",
       "      <td>3.9</td>\n",
       "      <td>4.2</td>\n",
       "      <td>39</td>\n",
       "      <td>0</td>\n",
       "      <td>Fast Food</td>\n",
       "      <td>Malakpet</td>\n",
       "      <td>Hyderabad</td>\n",
       "      <td>Platter Kebab Combo</td>\n",
       "      <td>BESTSELLER</td>\n",
       "      <td>84</td>\n",
       "      <td>249.0</td>\n",
       "    </tr>\n",
       "    <tr>\n",
       "      <th>1</th>\n",
       "      <td>Doner King</td>\n",
       "      <td>3.9</td>\n",
       "      <td>4.2</td>\n",
       "      <td>39</td>\n",
       "      <td>0</td>\n",
       "      <td>Fast Food</td>\n",
       "      <td>Malakpet</td>\n",
       "      <td>Hyderabad</td>\n",
       "      <td>Chicken Rumali Shawarma</td>\n",
       "      <td>BESTSELLER</td>\n",
       "      <td>45</td>\n",
       "      <td>129.0</td>\n",
       "    </tr>\n",
       "  </tbody>\n",
       "</table>\n",
       "</div>"
      ],
      "text/plain": [
       "  Restaurant_Name  Dining_Rating  Delivery_Rating  Dining_Votes  \\\n",
       "0      Doner King            3.9              4.2            39   \n",
       "1      Doner King            3.9              4.2            39   \n",
       "\n",
       "   Delivery Votes    Cuisine Place_Name        City                Item_Name  \\\n",
       "0               0  Fast Food   Malakpet   Hyderabad      Platter Kebab Combo   \n",
       "1               0  Fast Food   Malakpet   Hyderabad  Chicken Rumali Shawarma   \n",
       "\n",
       "  Best_Seller  Votes  Prices  \n",
       "0  BESTSELLER     84   249.0  \n",
       "1  BESTSELLER     45   129.0  "
      ]
     },
     "execution_count": 39,
     "metadata": {},
     "output_type": "execute_result"
    }
   ],
   "source": [
    "df.head(2)"
   ]
  },
  {
   "cell_type": "code",
   "execution_count": 81,
   "id": "ba2e8a6b",
   "metadata": {},
   "outputs": [
    {
     "data": {
      "text/plain": [
       "City        Item_Name\n",
       " Ahmedabad  Egg Curry     4\n",
       " Bangalore  Egg Curry     5\n",
       " Chennai    Egg Curry    15\n",
       " Goa        Egg Curry     1\n",
       " Hyderabad  Egg Curry    11\n",
       " Jaipur     Egg Curry     8\n",
       " Kolkata    Egg Curry     2\n",
       " Lucknow    Egg Curry     3\n",
       " New Delhi  Egg Curry     2\n",
       " Pune       Egg Curry     4\n",
       " Raipur     Egg Curry     5\n",
       "Name: Item_Name, dtype: int64"
      ]
     },
     "execution_count": 81,
     "metadata": {},
     "output_type": "execute_result"
    }
   ],
   "source": [
    "# Popularity of egg curry in following city.\n",
    "\n",
    "ec = df['Item_Name'] == 'Egg Curry'\n",
    "\n",
    "df[ec].groupby('City') ['Item_Name'].value_counts()"
   ]
  },
  {
   "cell_type": "code",
   "execution_count": 83,
   "id": "0a9dd963",
   "metadata": {},
   "outputs": [
    {
     "data": {
      "text/plain": [
       "City\n",
       " Ahmedabad    257.500000\n",
       " Bangalore    127.600000\n",
       " Chennai      191.800000\n",
       " Goa          240.000000\n",
       " Hyderabad    219.036364\n",
       " Jaipur       247.250000\n",
       " Kolkata      145.000000\n",
       " Lucknow      139.000000\n",
       " New Delhi    150.000000\n",
       " Pune         234.500000\n",
       " Raipur       163.400000\n",
       "Name: Prices, dtype: float64"
      ]
     },
     "execution_count": 83,
     "metadata": {},
     "output_type": "execute_result"
    }
   ],
   "source": [
    "# Average Egg Curry Price according to cities\n",
    "\n",
    "df[ec].groupby('City')['Prices'].mean()"
   ]
  },
  {
   "cell_type": "code",
   "execution_count": 85,
   "id": "a32b5a8d",
   "metadata": {},
   "outputs": [
    {
     "data": {
      "text/plain": [
       "City\n",
       " Ahmedabad     4.000000\n",
       " Bangalore     1.200000\n",
       " Chennai      45.533333\n",
       " Goa           0.000000\n",
       " Hyderabad    12.818182\n",
       " Jaipur       37.250000\n",
       " Kolkata       0.000000\n",
       " Lucknow      12.000000\n",
       " New Delhi    88.000000\n",
       " Pune          0.000000\n",
       " Raipur        7.000000\n",
       "Name: Votes, dtype: float64"
      ]
     },
     "execution_count": 85,
     "metadata": {},
     "output_type": "execute_result"
    }
   ],
   "source": [
    "df[ec].groupby('City')['Votes'].mean()"
   ]
  },
  {
   "cell_type": "code",
   "execution_count": 87,
   "id": "32d5ac02",
   "metadata": {},
   "outputs": [
    {
     "data": {
      "text/plain": [
       "McDonald's         2059\n",
       "Domino's Pizza     1435\n",
       "Burger King        1352\n",
       "FreshMenu          1097\n",
       "Pizza Hut          1077\n",
       "Kanha               934\n",
       "La Pino'z Pizza     868\n",
       "Subway              823\n",
       "KFC                 751\n",
       "The Momoz Hub       700\n",
       "Name: Restaurant_Name, dtype: int64"
      ]
     },
     "execution_count": 87,
     "metadata": {},
     "output_type": "execute_result"
    }
   ],
   "source": [
    "# Most number of Restaurant \n",
    "\n",
    "df['Restaurant_Name'].value_counts().head(10)"
   ]
  },
  {
   "cell_type": "code",
   "execution_count": 88,
   "id": "30ab893e",
   "metadata": {},
   "outputs": [
    {
     "data": {
      "text/plain": [
       "C Scheme           3775\n",
       "Navrangpura        1936\n",
       "Chembur            1826\n",
       "Charminar          1751\n",
       "Abids              1668\n",
       "                   ... \n",
       "Shobha Bazar         16\n",
       "Das Naagar           15\n",
       "Elamakkara           13\n",
       "Tripunithura          9\n",
       "Deccan Gymkhana       4\n",
       "Name: Place_Name, Length: 324, dtype: int64"
      ]
     },
     "execution_count": 88,
     "metadata": {},
     "output_type": "execute_result"
    }
   ],
   "source": [
    "# Most number of restaurant in specific region\n",
    "\n",
    "\n",
    "df['Place_Name'].value_counts()"
   ]
  },
  {
   "cell_type": "code",
   "execution_count": 101,
   "id": "fae882e5",
   "metadata": {},
   "outputs": [
    {
     "data": {
      "text/html": [
       "<div>\n",
       "<style scoped>\n",
       "    .dataframe tbody tr th:only-of-type {\n",
       "        vertical-align: middle;\n",
       "    }\n",
       "\n",
       "    .dataframe tbody tr th {\n",
       "        vertical-align: top;\n",
       "    }\n",
       "\n",
       "    .dataframe thead th {\n",
       "        text-align: right;\n",
       "    }\n",
       "</style>\n",
       "<table border=\"1\" class=\"dataframe\">\n",
       "  <thead>\n",
       "    <tr style=\"text-align: right;\">\n",
       "      <th></th>\n",
       "      <th>Item_Name</th>\n",
       "      <th>Prices</th>\n",
       "    </tr>\n",
       "  </thead>\n",
       "  <tbody>\n",
       "    <tr>\n",
       "      <th>0</th>\n",
       "      <td>Platter Kebab Combo</td>\n",
       "      <td>249.0</td>\n",
       "    </tr>\n",
       "    <tr>\n",
       "      <th>1</th>\n",
       "      <td>Chicken Rumali Shawarma</td>\n",
       "      <td>129.0</td>\n",
       "    </tr>\n",
       "    <tr>\n",
       "      <th>2</th>\n",
       "      <td>Chicken Tandoori Salad</td>\n",
       "      <td>189.0</td>\n",
       "    </tr>\n",
       "    <tr>\n",
       "      <th>3</th>\n",
       "      <td>Chicken BBQ Salad</td>\n",
       "      <td>189.0</td>\n",
       "    </tr>\n",
       "    <tr>\n",
       "      <th>4</th>\n",
       "      <td>Special Doner Wrap Combo</td>\n",
       "      <td>205.0</td>\n",
       "    </tr>\n",
       "    <tr>\n",
       "      <th>...</th>\n",
       "      <td>...</td>\n",
       "      <td>...</td>\n",
       "    </tr>\n",
       "    <tr>\n",
       "      <th>123652</th>\n",
       "      <td>Murgh Reshmi Kebab</td>\n",
       "      <td>525.0</td>\n",
       "    </tr>\n",
       "    <tr>\n",
       "      <th>123653</th>\n",
       "      <td>Murgh Large Tikka</td>\n",
       "      <td>525.0</td>\n",
       "    </tr>\n",
       "    <tr>\n",
       "      <th>123654</th>\n",
       "      <td>Murgh Chukandri Tikka</td>\n",
       "      <td>525.0</td>\n",
       "    </tr>\n",
       "    <tr>\n",
       "      <th>123655</th>\n",
       "      <td>Murgh Golden Kebab</td>\n",
       "      <td>525.0</td>\n",
       "    </tr>\n",
       "    <tr>\n",
       "      <th>123656</th>\n",
       "      <td>Gosht Gilawat Chop</td>\n",
       "      <td>595.0</td>\n",
       "    </tr>\n",
       "  </tbody>\n",
       "</table>\n",
       "<p>123657 rows × 2 columns</p>\n",
       "</div>"
      ],
      "text/plain": [
       "                       Item_Name  Prices\n",
       "0            Platter Kebab Combo   249.0\n",
       "1        Chicken Rumali Shawarma   129.0\n",
       "2         Chicken Tandoori Salad   189.0\n",
       "3              Chicken BBQ Salad   189.0\n",
       "4       Special Doner Wrap Combo   205.0\n",
       "...                          ...     ...\n",
       "123652        Murgh Reshmi Kebab   525.0\n",
       "123653         Murgh Large Tikka   525.0\n",
       "123654     Murgh Chukandri Tikka   525.0\n",
       "123655        Murgh Golden Kebab   525.0\n",
       "123656        Gosht Gilawat Chop   595.0\n",
       "\n",
       "[123657 rows x 2 columns]"
      ]
     },
     "execution_count": 101,
     "metadata": {},
     "output_type": "execute_result"
    }
   ],
   "source": [
    "# Top 10 Costliest dishes\n",
    "\n",
    "df[['Item_Name','Prices']]"
   ]
  },
  {
   "cell_type": "code",
   "execution_count": 89,
   "id": "4b39d425",
   "metadata": {},
   "outputs": [
    {
     "data": {
      "text/html": [
       "<div>\n",
       "<style scoped>\n",
       "    .dataframe tbody tr th:only-of-type {\n",
       "        vertical-align: middle;\n",
       "    }\n",
       "\n",
       "    .dataframe tbody tr th {\n",
       "        vertical-align: top;\n",
       "    }\n",
       "\n",
       "    .dataframe thead th {\n",
       "        text-align: right;\n",
       "    }\n",
       "</style>\n",
       "<table border=\"1\" class=\"dataframe\">\n",
       "  <thead>\n",
       "    <tr style=\"text-align: right;\">\n",
       "      <th></th>\n",
       "      <th>Restaurant_Name</th>\n",
       "      <th>Dining_Rating</th>\n",
       "      <th>Delivery_Rating</th>\n",
       "      <th>Dining_Votes</th>\n",
       "      <th>Delivery Votes</th>\n",
       "      <th>Cuisine</th>\n",
       "      <th>Place_Name</th>\n",
       "      <th>City</th>\n",
       "      <th>Item_Name</th>\n",
       "      <th>Best_Seller</th>\n",
       "      <th>Votes</th>\n",
       "      <th>Prices</th>\n",
       "    </tr>\n",
       "  </thead>\n",
       "  <tbody>\n",
       "    <tr>\n",
       "      <th>0</th>\n",
       "      <td>Doner King</td>\n",
       "      <td>3.9</td>\n",
       "      <td>4.2</td>\n",
       "      <td>39</td>\n",
       "      <td>0</td>\n",
       "      <td>Fast Food</td>\n",
       "      <td>Malakpet</td>\n",
       "      <td>Hyderabad</td>\n",
       "      <td>Platter Kebab Combo</td>\n",
       "      <td>BESTSELLER</td>\n",
       "      <td>84</td>\n",
       "      <td>249.0</td>\n",
       "    </tr>\n",
       "    <tr>\n",
       "      <th>1</th>\n",
       "      <td>Doner King</td>\n",
       "      <td>3.9</td>\n",
       "      <td>4.2</td>\n",
       "      <td>39</td>\n",
       "      <td>0</td>\n",
       "      <td>Fast Food</td>\n",
       "      <td>Malakpet</td>\n",
       "      <td>Hyderabad</td>\n",
       "      <td>Chicken Rumali Shawarma</td>\n",
       "      <td>BESTSELLER</td>\n",
       "      <td>45</td>\n",
       "      <td>129.0</td>\n",
       "    </tr>\n",
       "  </tbody>\n",
       "</table>\n",
       "</div>"
      ],
      "text/plain": [
       "  Restaurant_Name  Dining_Rating  Delivery_Rating  Dining_Votes  \\\n",
       "0      Doner King            3.9              4.2            39   \n",
       "1      Doner King            3.9              4.2            39   \n",
       "\n",
       "   Delivery Votes    Cuisine Place_Name        City                Item_Name  \\\n",
       "0               0  Fast Food   Malakpet   Hyderabad      Platter Kebab Combo   \n",
       "1               0  Fast Food   Malakpet   Hyderabad  Chicken Rumali Shawarma   \n",
       "\n",
       "  Best_Seller  Votes  Prices  \n",
       "0  BESTSELLER     84   249.0  \n",
       "1  BESTSELLER     45   129.0  "
      ]
     },
     "execution_count": 89,
     "metadata": {},
     "output_type": "execute_result"
    }
   ],
   "source": [
    "df.head(2)"
   ]
  },
  {
   "cell_type": "code",
   "execution_count": 109,
   "id": "ad62e60f",
   "metadata": {},
   "outputs": [
    {
     "data": {
      "text/html": [
       "<div>\n",
       "<style scoped>\n",
       "    .dataframe tbody tr th:only-of-type {\n",
       "        vertical-align: middle;\n",
       "    }\n",
       "\n",
       "    .dataframe tbody tr th {\n",
       "        vertical-align: top;\n",
       "    }\n",
       "\n",
       "    .dataframe thead th {\n",
       "        text-align: right;\n",
       "    }\n",
       "</style>\n",
       "<table border=\"1\" class=\"dataframe\">\n",
       "  <thead>\n",
       "    <tr style=\"text-align: right;\">\n",
       "      <th></th>\n",
       "      <th>Restaurant_Name</th>\n",
       "      <th>Cuisine</th>\n",
       "    </tr>\n",
       "  </thead>\n",
       "  <tbody>\n",
       "    <tr>\n",
       "      <th>0</th>\n",
       "      <td>Doner King</td>\n",
       "      <td>Fast Food</td>\n",
       "    </tr>\n",
       "    <tr>\n",
       "      <th>1</th>\n",
       "      <td>Doner King</td>\n",
       "      <td>Fast Food</td>\n",
       "    </tr>\n",
       "    <tr>\n",
       "      <th>2</th>\n",
       "      <td>Doner King</td>\n",
       "      <td>Fast Food</td>\n",
       "    </tr>\n",
       "    <tr>\n",
       "      <th>3</th>\n",
       "      <td>Doner King</td>\n",
       "      <td>Fast Food</td>\n",
       "    </tr>\n",
       "    <tr>\n",
       "      <th>4</th>\n",
       "      <td>Doner King</td>\n",
       "      <td>Fast Food</td>\n",
       "    </tr>\n",
       "    <tr>\n",
       "      <th>...</th>\n",
       "      <td>...</td>\n",
       "      <td>...</td>\n",
       "    </tr>\n",
       "    <tr>\n",
       "      <th>123652</th>\n",
       "      <td>Ariena Boutique Hotel</td>\n",
       "      <td>Pizza</td>\n",
       "    </tr>\n",
       "    <tr>\n",
       "      <th>123653</th>\n",
       "      <td>Ariena Boutique Hotel</td>\n",
       "      <td>Pizza</td>\n",
       "    </tr>\n",
       "    <tr>\n",
       "      <th>123654</th>\n",
       "      <td>Ariena Boutique Hotel</td>\n",
       "      <td>Pizza</td>\n",
       "    </tr>\n",
       "    <tr>\n",
       "      <th>123655</th>\n",
       "      <td>Ariena Boutique Hotel</td>\n",
       "      <td>Pizza</td>\n",
       "    </tr>\n",
       "    <tr>\n",
       "      <th>123656</th>\n",
       "      <td>Ariena Boutique Hotel</td>\n",
       "      <td>Pizza</td>\n",
       "    </tr>\n",
       "  </tbody>\n",
       "</table>\n",
       "<p>123657 rows × 2 columns</p>\n",
       "</div>"
      ],
      "text/plain": [
       "              Restaurant_Name    Cuisine\n",
       "0                  Doner King  Fast Food\n",
       "1                  Doner King  Fast Food\n",
       "2                  Doner King  Fast Food\n",
       "3                  Doner King  Fast Food\n",
       "4                  Doner King  Fast Food\n",
       "...                       ...        ...\n",
       "123652  Ariena Boutique Hotel      Pizza\n",
       "123653  Ariena Boutique Hotel      Pizza\n",
       "123654  Ariena Boutique Hotel      Pizza\n",
       "123655  Ariena Boutique Hotel      Pizza\n",
       "123656  Ariena Boutique Hotel      Pizza\n",
       "\n",
       "[123657 rows x 2 columns]"
      ]
     },
     "execution_count": 109,
     "metadata": {},
     "output_type": "execute_result"
    }
   ],
   "source": [
    "df[['Restaurant_Name', 'Cuisine']]"
   ]
  },
  {
   "cell_type": "code",
   "execution_count": null,
   "id": "dfd0a244",
   "metadata": {},
   "outputs": [],
   "source": []
  }
 ],
 "metadata": {
  "kernelspec": {
   "display_name": "Python 3 (ipykernel)",
   "language": "python",
   "name": "python3"
  },
  "language_info": {
   "codemirror_mode": {
    "name": "ipython",
    "version": 3
   },
   "file_extension": ".py",
   "mimetype": "text/x-python",
   "name": "python",
   "nbconvert_exporter": "python",
   "pygments_lexer": "ipython3",
   "version": "3.11.0"
  }
 },
 "nbformat": 4,
 "nbformat_minor": 5
}
